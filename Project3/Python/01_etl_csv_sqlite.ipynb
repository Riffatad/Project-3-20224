{
 "cells": [
  {
   "cell_type": "code",
   "execution_count": 4,
   "id": "ef6d84db-3b26-403f-95b4-b884d7b6ee0f",
   "metadata": {},
   "outputs": [],
   "source": [
    "import pandas as pd\n",
    "import sqlite3"
   ]
  },
  {
   "cell_type": "code",
   "execution_count": 5,
   "id": "3df26135-a67e-4ae5-ae1c-0bcb1f442369",
   "metadata": {},
   "outputs": [],
   "source": [
    "# Path to CSV file and SQLite database\n",
    "csv_file = 'raw_data/electric vehicle.csv'\n",
    "db_file = 'clean_data/ev_wa.sqlite'"
   ]
  },
  {
   "cell_type": "code",
   "execution_count": 6,
   "id": "fee7fe97-04ef-4f5d-8dba-57934dafd0e1",
   "metadata": {},
   "outputs": [
    {
     "name": "stdout",
     "output_type": "stream",
     "text": [
      "CSV file 'raw_data/electric vehicle.csv' has been successfully imported into 'clean_data/ev_wa.sqlite'.\n"
     ]
    }
   ],
   "source": [
    "# Read CSV into a pandas DataFrame\n",
    "df = pd.read_csv(csv_file)\n",
    "\n",
    "# Connect to SQLite database\n",
    "conn = sqlite3.connect(db_file)\n",
    "\n",
    "# Write the data to a new SQLite table (or replace an existing table)\n",
    "df.to_sql('EV_DATA', conn, if_exists='replace', index=False)\n",
    "\n",
    "# Commit and close the connection\n",
    "conn.commit()\n",
    "conn.close()\n",
    "\n",
    "print(f\"CSV file '{csv_file}' has been successfully imported into '{db_file}'.\")"
   ]
  },
  {
   "cell_type": "code",
   "execution_count": null,
   "id": "ec3722be-3eb2-440d-9c1d-5dd94747a54a",
   "metadata": {},
   "outputs": [],
   "source": []
  }
 ],
 "metadata": {
  "kernelspec": {
   "display_name": "Python 3 (ipykernel)",
   "language": "python",
   "name": "python3"
  },
  "language_info": {
   "codemirror_mode": {
    "name": "ipython",
    "version": 3
   },
   "file_extension": ".py",
   "mimetype": "text/x-python",
   "name": "python",
   "nbconvert_exporter": "python",
   "pygments_lexer": "ipython3",
   "version": "3.10.14"
  }
 },
 "nbformat": 4,
 "nbformat_minor": 5
}
